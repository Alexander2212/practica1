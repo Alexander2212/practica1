{
 "cells": [
  {
   "cell_type": "code",
   "execution_count": null,
   "metadata": {},
   "outputs": [],
   "source": [
    "# practico.ipynb\n",
    "\n",
    "# Importación de librerías necesarias\n",
    "import numpy as np\n",
    "import pandas as pd\n",
    "import matplotlib.pyplot as plt\n",
    "from scipy.optimize import curve_fit\n",
    "\n",
    "# Cargar los datos desde el archivo CSV\n",
    "data = pd.read_csv('datos_peso_estatura.csv')\n",
    "\n",
    "# Visualización inicial de los datos\n",
    "plt.scatter(data['Estatura (m)'], data['Peso (kg)'], color='blue', label='Datos')\n",
    "plt.title('Distribución de Estatura y Peso')\n",
    "plt.xlabel('Estatura (m)')\n",
    "plt.ylabel('Peso (kg)')\n",
    "plt.legend()\n",
    "plt.show()\n",
    "\n",
    "# Definir una función de ajuste de curva (por ejemplo, una función lineal)\n",
    "def linear(x, m, b):\n",
    "    return m * x + b\n",
    "\n",
    "# Ajuste de la curva a los datos\n",
    "x = data['Estatura (m)']\n",
    "y = data['Peso (kg)']\n",
    "popt, pcov = curve_fit(linear, x, y)\n",
    "m, b = popt\n",
    "\n",
    "# Crear los valores de y basados en la fórmula de la recta ajustada\n",
    "y_line = linear(x, m, b)\n",
    "\n",
    "# Visualización de la recta ajustada junto con los datos\n",
    "plt.scatter(x, y, color='blue', label='Datos')\n",
    "plt.plot(x, y_line, color='red', label='Línea ajustada')\n",
    "plt.title('Estatura vs Peso con Línea Ajustada')\n",
    "plt.xlabel('Estatura (m)')\n",
    "plt.ylabel('Peso (kg)')\n",
    "plt.legend()\n",
    "plt.show()\n",
    "\n",
    "# Mostrar los parámetros de la curva ajustada\n",
    "print(f\"Parámetros de la curva: Pendiente (m) = {m}, Intersección (b) = {b}\")\n"
   ]
  }
 ],
 "metadata": {
  "language_info": {
   "name": "python"
  }
 },
 "nbformat": 4,
 "nbformat_minor": 2
}
